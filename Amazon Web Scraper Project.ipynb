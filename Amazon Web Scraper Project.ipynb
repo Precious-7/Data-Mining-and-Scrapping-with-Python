{
 "cells": [
  {
   "cell_type": "code",
   "execution_count": 22,
   "id": "de2a5187",
   "metadata": {},
   "outputs": [],
   "source": [
    "# import libraries\n",
    "\n",
    "from bs4 import BeautifulSoup\n",
    "import requests\n",
    "import smtplib\n",
    "import time\n",
    "import datetime\n"
   ]
  },
  {
   "cell_type": "code",
   "execution_count": 96,
   "id": "1ab7662c",
   "metadata": {
    "scrolled": true
   },
   "outputs": [
    {
     "name": "stdout",
     "output_type": "stream",
     "text": [
      "\n",
      "                   Funny Got Data MIS Data Systems Business Analyst T-Shirt\n",
      "                  \n",
      "\n",
      "\n",
      "\n",
      "\n",
      "\n",
      "                  $16.99\n",
      "                 \n",
      "\n",
      "\n",
      "                   $\n",
      "                  \n",
      "\n",
      "                   16\n",
      "                   \n",
      "                    .\n",
      "                   \n",
      "\n",
      "\n",
      "                   99\n",
      "                  \n",
      "\n",
      "\n",
      "\n",
      "\n",
      "\n",
      "\n",
      "\n",
      "\n",
      "\n",
      "\n",
      "\n",
      "\n"
     ]
    }
   ],
   "source": [
    "# connect to website\n",
    "\n",
    "URL = 'https://www.amazon.com/Funny-Data-Systems-Business-Analyst/dp/B07FNW9FGJ'\n",
    "# URL = 'https://www.amazon.com/Got-Data-MIS-Business-Analyst/dp/B08LL786NK/ref=d_gear_dw_dp_gn_sccl_2_5/134-6269374-2130855?pd_rd_w=5uOfN&content-id=amzn1.sym.98cd7395-1427-4463-ba2f-d9a4c6e9990c&pf_rd_p=98cd7395-1427-4463-ba2f-d9a4c6e9990c&pf_rd_r=P5H7JRPBDMVWRG799JVT&pd_rd_wg=tMjyp&pd_rd_r=cbd623c2-b2c4-4822-acb4-9745baff7d81&pd_rd_i=B08LL786NK&psc=1'\n",
    "\n",
    "headers =  {\"User-Agent\": \"Mozilla/5.0 (Windows NT 10.0; Win64; x64) AppleWebKit/537.36 (KHTML, like Gecko) Chrome/114.0.0.0 Safari/537.36 Edg/114.0.1823.58\", \"Accept-Encoding\": \"gzip, deflate\", \"Accept\": \"text/html,application/xhtml+xml,application/xml;q=0.9,image/webp,image/apng,*/*;q=0.8,application/signed-exchange;v=b3;q=0.7\", \"DNT\": \"1\", \"Connection\" : \"Close\", \"Upgrade-Insecure-Requests\": \"1\"}\n",
    "\n",
    "page = requests.get(URL, headers = headers)\n",
    "\n",
    "soup1 = BeautifulSoup(page.content, \"html.parser\")\n",
    "\n",
    "soup2 = BeautifulSoup(soup1.prettify(), \"html.parser\")\n",
    "\n",
    "title = soup2.find(id = 'productTitle').get_text()\n",
    "\n",
    "price = soup2.find(id = 'corePriceDisplay_desktop_feature_div').get_text()\n",
    "\n",
    "\n",
    "print (title)\n",
    "print (price)\n",
    "\n",
    "\n",
    "\n"
   ]
  },
  {
   "cell_type": "code",
   "execution_count": null,
   "id": "b20ee6ed",
   "metadata": {},
   "outputs": [],
   "source": []
  },
  {
   "cell_type": "code",
   "execution_count": 105,
   "id": "9de6ad81",
   "metadata": {},
   "outputs": [
    {
     "name": "stdout",
     "output_type": "stream",
     "text": [
      "Funny Got Data MIS Data Systems Business Analyst T-Shirt\n",
      "16.99\n"
     ]
    }
   ],
   "source": [
    "title = title.strip()\n",
    "price = price.strip()  [1:6]\n",
    "\n",
    "print(title)\n",
    "print(price)\n"
   ]
  },
  {
   "cell_type": "code",
   "execution_count": null,
   "id": "fdf61492",
   "metadata": {},
   "outputs": [],
   "source": [
    "import datetime\n",
    "\n",
    "today = datetime.date(2021, 8, 21)\n",
    "print(today)"
   ]
  },
  {
   "cell_type": "code",
   "execution_count": 114,
   "id": "3afcdfb0",
   "metadata": {},
   "outputs": [],
   "source": [
    "import csv\n",
    "\n",
    "header = ['Title', 'Price', 'Date']\n",
    "data = [title, price, today]\n",
    "\n",
    "# type(data)\n",
    "\n",
    "with open('AmazonWebScraperDataset.csv', 'w', newline = '', encoding = 'UTF8') as f:\n",
    "    writer = csv.writer(f)\n",
    "    writer.writerow(header)\n",
    "    writer.writerow(data)\n",
    "\n"
   ]
  },
  {
   "cell_type": "code",
   "execution_count": 129,
   "id": "413ba117",
   "metadata": {},
   "outputs": [
    {
     "name": "stdout",
     "output_type": "stream",
     "text": [
      "                                                Title  Price        Date\n",
      "0   Funny Got Data MIS Data Systems Business Analy...  16.99  2021-08-21\n",
      "1   Funny Got Data MIS Data Systems Business Analy...  16.99  2021-08-21\n",
      "2   Funny Got Data MIS Data Systems Business Analy...  16.99  2021-08-21\n",
      "3   Funny Got Data MIS Data Systems Business Analy...  16.99  2021-08-21\n",
      "4   Funny Got Data MIS Data Systems Business Analy...  16.99  2021-08-21\n",
      "5   Funny Got Data MIS Data Systems Business Analy...  16.99  2021-08-21\n",
      "6   Funny Got Data MIS Data Systems Business Analy...  16.99  2021-08-21\n",
      "7   Funny Got Data MIS Data Systems Business Analy...  16.99  2021-08-21\n",
      "8   Funny Got Data MIS Data Systems Business Analy...  16.99  2021-08-21\n",
      "9   Funny Got Data MIS Data Systems Business Analy...  16.99  2021-08-21\n",
      "10  Funny Got Data MIS Data Systems Business Analy...  16.99  2021-08-21\n",
      "11  Funny Got Data MIS Data Systems Business Analy...  16.99  2021-08-21\n",
      "12  Funny Got Data MIS Data Systems Business Analy...  16.99  2021-08-21\n"
     ]
    }
   ],
   "source": [
    "import pandas as pd\n",
    "df = pd.read_csv(r'C:\\Users\\Elijah\\AmazonWebScraperDataset.csv')\n",
    "\n",
    "print(df)"
   ]
  },
  {
   "cell_type": "code",
   "execution_count": 115,
   "id": "2a752a14",
   "metadata": {},
   "outputs": [],
   "source": [
    "# Date or Time Stamp\n",
    "# import datetime\n",
    "\n",
    "# today = datetime.date(2021, 8, 21)\n",
    "# print(today)"
   ]
  },
  {
   "cell_type": "code",
   "execution_count": 170,
   "id": "674390c8",
   "metadata": {},
   "outputs": [],
   "source": [
    "# Now we are appending data to the csv\n",
    "\n",
    "with open('AmazonWebScraperDataset.csv', 'a+', newline = '', encoding = 'UTF8') as f:\n",
    "    writer = csv.writer(f)\n",
    "    writer.writerow(data)\n"
   ]
  },
  {
   "cell_type": "code",
   "execution_count": 171,
   "id": "85114f94",
   "metadata": {},
   "outputs": [],
   "source": [
    "\n",
    "def check_price():\n",
    "    # connect to website\n",
    "\n",
    "    URL = 'https://www.amazon.com/Funny-Data-Systems-Business-Analyst/dp/B07FNW9FGJ'\n",
    "# URL = 'https://www.amazon.com/Got-Data-MIS-Business-Analyst/dp/B08LL786NK/ref=d_gear_dw_dp_gn_sccl_2_5/134-6269374-2130855?pd_rd_w=5uOfN&content-id=amzn1.sym.98cd7395-1427-4463-ba2f-d9a4c6e9990c&pf_rd_p=98cd7395-1427-4463-ba2f-d9a4c6e9990c&pf_rd_r=P5H7JRPBDMVWRG799JVT&pd_rd_wg=tMjyp&pd_rd_r=cbd623c2-b2c4-4822-acb4-9745baff7d81&pd_rd_i=B08LL786NK&psc=1'\n",
    "\n",
    "    headers =  {\"User-Agent\": \"Mozilla/5.0 (Windows NT 10.0; Win64; x64) AppleWebKit/537.36 (KHTML, like Gecko) Chrome/114.0.0.0 Safari/537.36 Edg/114.0.1823.58\", \"Accept-Encoding\": \"gzip, deflate\", \"Accept\": \"text/html,application/xhtml+xml,application/xml;q=0.9,image/webp,image/apng,*/*;q=0.8,application/signed-exchange;v=b3;q=0.7\", \"DNT\": \"1\", \"Connection\" : \"Close\", \"Upgrade-Insecure-Requests\": \"1\"}\n",
    "\n",
    "    page = requests.get(URL, headers = headers)\n",
    "\n",
    "    soup1 = BeautifulSoup(page.content, \"html.parser\")\n",
    "\n",
    "    soup2 = BeautifulSoup(soup1.prettify(), \"html.parser\")\n",
    "\n",
    "    title = soup2.find(id = 'productTitle').get_text()\n",
    "\n",
    "    price = soup2.find(id = 'corePriceDisplay_desktop_feature_div').get_text()\n",
    "\n",
    "\n",
    "    title = title.strip()\n",
    "    price = price.strip()  [1:6]\n",
    "    \n",
    "    import datetime\n",
    "    today = datetime.date.today()\n",
    "    \n",
    "    import csv\n",
    "    header = ['Title', 'Price', 'Date']\n",
    "    data = [title, price, today]\n",
    "    \n",
    "    with open('AmazonWebScraperDataset.csv', 'a+', newline = '', encoding = 'UTF8') as f:\n",
    "        writer = csv.writer(f)\n",
    "        writer.writerow(data)\n",
    "    \n",
    "    "
   ]
  },
  {
   "cell_type": "code",
   "execution_count": null,
   "id": "fa25a802",
   "metadata": {},
   "outputs": [],
   "source": [
    "# Putting a timer to update the data (csv file) in intervals\n",
    "while(True):\n",
    "    check_price()\n",
    "    time.sleep(2)"
   ]
  },
  {
   "cell_type": "code",
   "execution_count": 172,
   "id": "7e456f4c",
   "metadata": {},
   "outputs": [
    {
     "name": "stdout",
     "output_type": "stream",
     "text": [
      "                                                Title  Price        Date\n",
      "0   Funny Got Data MIS Data Systems Business Analy...  16.99  2021-08-21\n",
      "1   Funny Got Data MIS Data Systems Business Analy...  16.99  2021-08-21\n",
      "2   Funny Got Data MIS Data Systems Business Analy...  16.99  2021-08-21\n",
      "3   Funny Got Data MIS Data Systems Business Analy...  16.99  2021-08-21\n",
      "4   Funny Got Data MIS Data Systems Business Analy...  16.99  2021-08-21\n",
      "5   Funny Got Data MIS Data Systems Business Analy...  16.99  2021-08-21\n",
      "6   Funny Got Data MIS Data Systems Business Analy...  16.99  2021-08-21\n",
      "7   Funny Got Data MIS Data Systems Business Analy...  16.99  2021-08-21\n",
      "8   Funny Got Data MIS Data Systems Business Analy...  16.99  2021-08-21\n",
      "9   Funny Got Data MIS Data Systems Business Analy...  16.99  2021-08-21\n",
      "10  Funny Got Data MIS Data Systems Business Analy...  16.99  2021-08-21\n",
      "11  Funny Got Data MIS Data Systems Business Analy...  16.99  2021-08-21\n",
      "12  Funny Got Data MIS Data Systems Business Analy...  16.99  2021-08-21\n",
      "13  Funny Got Data MIS Data Systems Business Analy...  16.99  2023-06-27\n",
      "14  Funny Got Data MIS Data Systems Business Analy...  16.99  2023-06-27\n",
      "15  Funny Got Data MIS Data Systems Business Analy...  16.99  2023-06-27\n",
      "16  Funny Got Data MIS Data Systems Business Analy...  16.99  2023-06-27\n",
      "17  Funny Got Data MIS Data Systems Business Analy...  16.99  2021-08-21\n"
     ]
    }
   ],
   "source": [
    "import pandas as pd\n",
    "df = pd.read_csv(r'C:\\Users\\Elijah\\AmazonWebScraperDataset.csv')\n",
    "\n",
    "print(df)"
   ]
  },
  {
   "cell_type": "code",
   "execution_count": null,
   "id": "c3a00b14",
   "metadata": {},
   "outputs": [],
   "source": []
  },
  {
   "cell_type": "code",
   "execution_count": null,
   "id": "f524e6a1",
   "metadata": {},
   "outputs": [],
   "source": []
  }
 ],
 "metadata": {
  "kernelspec": {
   "display_name": "Python 3 (ipykernel)",
   "language": "python",
   "name": "python3"
  },
  "language_info": {
   "codemirror_mode": {
    "name": "ipython",
    "version": 3
   },
   "file_extension": ".py",
   "mimetype": "text/x-python",
   "name": "python",
   "nbconvert_exporter": "python",
   "pygments_lexer": "ipython3",
   "version": "3.9.13"
  }
 },
 "nbformat": 4,
 "nbformat_minor": 5
}
